{
 "cells": [
  {
   "cell_type": "markdown",
   "id": "71917d44",
   "metadata": {},
   "source": [
    "\n",
    "Charlie wants to make her model work for future data sets, so she needs a general approach to generating the buckets. Given a set number of buckets corresponding to the number of input labels for the model, she would like to find out the boundaries that best summarize the data. You need to create a rating map that maps the FICO score of the borrowers to a rating where a lower rating signifies a better credit score.\n",
    "\n",
    "The process of doing this is known as quantization. You could consider many ways of solving the problem by optimizing different properties of the resulting buckets, such as the mean squared error or log-likelihood (see below for definitions). "
   ]
  },
  {
   "cell_type": "code",
   "execution_count": null,
   "id": "2c446cc1",
   "metadata": {},
   "outputs": [],
   "source": [
    "import numpy as np\n",
    "\n",
    "# 假设你已经有一个包含FICO评分的NumPy数组fico_scores\n",
    "# fico_scores = np.array([...])\n",
    "\n",
    "# 确定桶的数量\n",
    "n_buckets = 10  # 例如，你想要创建10个桶\n",
    "\n",
    "# 初始化桶的边界\n",
    "min_score = 300  # FICO评分的最小值\n",
    "max_score = 850  # FICO评分的最大值\n",
    "bucket_edges = np.linspace(min_score, max_score, n_buckets+1)\n",
    "\n",
    "# 迭代优化桶的边界\n",
    "for iteration in range(100):  # 你可以设置为需要的迭代次数\n",
    "    bucket_indices = np.digitize(fico_scores, bucket_edges, right=True)\n",
    "    new_edges = []\n",
    "    \n",
    "    for i in range(1, len(bucket_edges)):\n",
    "        # 计算当前桶的FICO评分平均值\n",
    "        in_bucket = fico_scores[(bucket_indices == i)]\n",
    "        if len(in_bucket) > 0:\n",
    "            bucket_avg = in_bucket.mean()\n",
    "            new_edges.append(bucket_avg)\n",
    "    \n",
    "    # 更新桶的边界\n",
    "    new_edges = np.unique(new_edges)\n",
    "    if len(new_edges) > 1:\n",
    "        bucket_edges = np.concatenate(([min_score], (new_edges[:-1] + new_edges[1:])/2, [max_score]))\n",
    "    \n",
    "    # 计算MSE\n",
    "    mse = sum((fico_scores - bucket_edges[bucket_indices])**2) / len(fico_scores)\n",
    "    \n",
    "    print(f\"Iteration {iteration}: MSE={mse}\")\n",
    "\n",
    "# 输出最终桶的边界\n",
    "print(\"Final bucket edges:\", bucket_edges)\n"
   ]
  }
 ],
 "metadata": {
  "kernelspec": {
   "display_name": "Python 3 (ipykernel)",
   "language": "python",
   "name": "python3"
  },
  "language_info": {
   "codemirror_mode": {
    "name": "ipython",
    "version": 3
   },
   "file_extension": ".py",
   "mimetype": "text/x-python",
   "name": "python",
   "nbconvert_exporter": "python",
   "pygments_lexer": "ipython3",
   "version": "3.11.4"
  }
 },
 "nbformat": 4,
 "nbformat_minor": 5
}
