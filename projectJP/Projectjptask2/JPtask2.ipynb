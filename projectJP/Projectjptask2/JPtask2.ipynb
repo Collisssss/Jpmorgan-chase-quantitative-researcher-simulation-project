{
 "cells": [
  {
   "cell_type": "markdown",
   "id": "38992400",
   "metadata": {},
   "source": [
    "Great work! The desk now has the price data they need. The final ingredient before they can begin trading with the client is the pricing model. Alex tells you the client wants to start trading as soon as possible. They believe the winter will be colder than expected, so they want to buy gas now to store and sell in winter in order to take advantage of the resulting increase in gas prices. They ask you to write a script that they can use to price the contract. Once the desk are happy, you will work with engineering, risk, and model validation to incorporate this model into production code.\n",
    "\n",
    "The concept is simple: any trade agreement is as valuable as the price you can sell minus the price at which you are able to buy. Any cost incurred as part of executing this agreement is also deducted from the overall value. So, for example, if I can purchase a million MMBtu of natural gas in summer at $2/MMBtu, store this for four months, and ensure that I can sell the same quantity at $3/MMBtu without incurring any additional costs, the value of this contract would be ($3-$2) *1e6 = $1million. If there are costs involved, such as having to pay the storage facility owner a fixed fee of $100K a month, then the 'value' of the contract, from my perspective, would drop by the overall rental amount to $600K. Another cost could be the injection/withdrawal cost, like having to pay the storage facility owner $10K per 1 million MMBtu for injection/withdrawal, then the price will further go down by $10K to $590K. Additionally, if I am supposed to foot a bill of $50K each time for transporting the gas to and from the facility, the cost of this contract would fall by another $100K. Think of the valuation as a fair estimate at which both the trading desk and the client would be happy to enter into the contract. "
   ]
  },
  {
   "cell_type": "code",
   "execution_count": 6,
   "id": "2dc7d127",
   "metadata": {},
   "outputs": [
    {
     "ename": "TypeError",
     "evalue": "calculate_contract_value() missing 1 required positional argument: 'max_storage_volume'",
     "output_type": "error",
     "traceback": [
      "\u001b[0;31m---------------------------------------------------------------------------\u001b[0m",
      "\u001b[0;31mTypeError\u001b[0m                                 Traceback (most recent call last)",
      "Cell \u001b[0;32mIn[6], line 80\u001b[0m\n\u001b[1;32m     77\u001b[0m storage_fee_per_month \u001b[38;5;241m=\u001b[39m \u001b[38;5;241m100000\u001b[39m\n\u001b[1;32m     78\u001b[0m max_storage_volume \u001b[38;5;241m=\u001b[39m \u001b[38;5;241m1000000\u001b[39m \n\u001b[0;32m---> 80\u001b[0m value \u001b[38;5;241m=\u001b[39m calculate_contract_value(injection_dates, withdrawal_dates, prices_dict, injection_costs, withdrawal_costs, transport_costs, storage_fee_per_month, max_storage_volume)\n\u001b[1;32m     81\u001b[0m \u001b[38;5;28mprint\u001b[39m(\u001b[38;5;124mf\u001b[39m\u001b[38;5;124m\"\u001b[39m\u001b[38;5;124mThe net value of the contract is $\u001b[39m\u001b[38;5;132;01m{\u001b[39;00mvalue\u001b[38;5;132;01m:\u001b[39;00m\u001b[38;5;124m.2f\u001b[39m\u001b[38;5;132;01m}\u001b[39;00m\u001b[38;5;124m\"\u001b[39m)\n",
      "\u001b[0;31mTypeError\u001b[0m: calculate_contract_value() missing 1 required positional argument: 'max_storage_volume'"
     ]
    }
   ],
   "source": [
    "import pandas as pd\n",
    "from datetime import datetime\n",
    "\n",
    "# Load the data from a CSV file\n",
    "\n",
    "prices_df = pd.read_csv('Nat_Gas.csv')\n",
    "# Convert the 'Dates' column to datetime objects\n",
    "prices_df['Dates'] = pd.to_datetime(prices_df['Dates'])\n",
    "# Create a dictionary with dates as keys and prices as values\n",
    "prices_dict = dict(zip(prices_df['Dates'], prices_df['Prices']))\n",
    " \n",
    "# Calculate the net value of a gas storage contract\n",
    "def calculate_contract_value(injection_dates, withdrawal_dates, purchase_prices, sale_prices, injection_costs, withdrawal_costs, transport_costs, storage_fee_per_month, max_storage_volume):\n",
    "    \"\"\"\n",
    "    Calculate the net value of a gas storage contract.\n",
    "\n",
    "    Parameters:\n",
    "    - injection_dates: List of dates when gas is injected.\n",
    "    - withdrawal_dates: List of dates when gas is withdrawn.\n",
    "    - purchase_prices: Dictionary mapping dates to purchase prices per MMBtu.\n",
    "    - sale_prices: Dictionary mapping dates to sale prices per MMBtu.\n",
    "    - injection_costs: Cost to inject gas per MMBtu.\n",
    "    - withdrawal_costs: Cost to withdraw gas per MMBtu.\n",
    "    - transport_costs: Transportation cost per round trip.\n",
    "    - storage_fee_per_month: Monthly storage fee.\n",
    "    - max_storage_volume: Maximum volume of gas that can be stored.\n",
    "\n",
    "    Returns:\n",
    "    - float: Net value of the contract.\n",
    "    \"\"\"\n",
    "    # Initialize variables\n",
    "    total_cost = 0\n",
    "    total_revenue = 0\n",
    "    total_volume = 0\n",
    "\n",
    "    # Calculate costs and revenues for each injection and corresponding withdrawal\n",
    "    for inject_date, withdraw_date in zip(injection_dates, withdrawal_dates):\n",
    "        if inject_date in purchase_prices and withdraw_date in sale_prices:\n",
    "            volume = min(max_storage_volume, max_storage_volume)  # Simplified volume handling\n",
    "            purchase_price = purchase_prices[inject_date]\n",
    "            sale_price = sale_prices[withdraw_date]\n",
    "            \n",
    "            # Calculate revenues\n",
    "            revenue = volume * (sale_price - purchase_price)\n",
    "            total_revenue += revenue\n",
    "            \n",
    "            # Calculate costs\n",
    "            inject_cost = volume * injection_costs\n",
    "            withdraw_cost = volume * withdrawal_costs\n",
    "            transport_cost = transport_costs\n",
    "            storage_months = (withdraw_date - inject_date).days // 30  # Approximate month count\n",
    "            storage_cost = storage_months * storage_fee_per_month\n",
    "            \n",
    "            total_cost += inject_cost + withdraw_cost + transport_cost + storage_cost\n",
    "\n",
    "    # Net value calculation\n",
    "    net_value = total_revenue - total_cost\n",
    "    return net_value\n",
    "# Example usage\n",
    "csv_filepath = 'Nat_Gas.csv'  # Update this to your actual CSV file path\n",
    "\n",
    "\n",
    "prices_df = pd.read_csv('Nat_Gas.csv')\n",
    "# Convert the 'Dates' column to datetime objects\n",
    "prices_df['Dates'] = pd.to_datetime(prices_df['Dates'])\n",
    "# Create a dictionary with dates as keys and prices as values\n",
    "prices_dict = dict(zip(prices_df['Dates'], prices_df['Prices']))\n",
    " \n",
    "    \n",
    "# Now we have to make sure that the dates are in datetime format\n",
    "injection_dates = [datetime(2024, 6, 1), datetime(2024, 7, 1)]\n",
    "withdrawal_dates = [datetime(2024, 10, 1), datetime(2024, 11, 1)]\n",
    "# ... existing code for the rest of the parameters ...\n",
    "injection_costs = 0.01\n",
    "withdrawal_costs = 0.01\n",
    "transport_costs = 50000\n",
    "storage_fee_per_month = 100000\n",
    "max_storage_volume = 1000000 \n",
    "\n",
    "value = calculate_contract_value(injection_dates, withdrawal_dates, prices_dict, injection_costs, withdrawal_costs, transport_costs, storage_fee_per_month, max_storage_volume)\n",
    "print(f\"The net value of the contract is ${value:.2f}\")\n"
   ]
  },
  {
   "cell_type": "code",
   "execution_count": null,
   "id": "ff849c99",
   "metadata": {},
   "outputs": [],
   "source": []
  },
  {
   "cell_type": "code",
   "execution_count": null,
   "id": "66b7646d",
   "metadata": {},
   "outputs": [],
   "source": []
  },
  {
   "cell_type": "code",
   "execution_count": null,
   "id": "7f2d9e86",
   "metadata": {},
   "outputs": [],
   "source": []
  },
  {
   "cell_type": "code",
   "execution_count": null,
   "id": "83845500",
   "metadata": {},
   "outputs": [],
   "source": []
  },
  {
   "cell_type": "code",
   "execution_count": null,
   "id": "aedad7c9",
   "metadata": {},
   "outputs": [],
   "source": []
  },
  {
   "cell_type": "code",
   "execution_count": null,
   "id": "d0fbf5e8",
   "metadata": {},
   "outputs": [],
   "source": []
  },
  {
   "cell_type": "code",
   "execution_count": null,
   "id": "89c6809b",
   "metadata": {},
   "outputs": [],
   "source": []
  },
  {
   "cell_type": "code",
   "execution_count": null,
   "id": "cf6e8fac",
   "metadata": {},
   "outputs": [],
   "source": []
  },
  {
   "cell_type": "code",
   "execution_count": null,
   "id": "386a50b3",
   "metadata": {},
   "outputs": [],
   "source": []
  }
 ],
 "metadata": {
  "kernelspec": {
   "display_name": "Python 3 (ipykernel)",
   "language": "python",
   "name": "python3"
  },
  "language_info": {
   "codemirror_mode": {
    "name": "ipython",
    "version": 3
   },
   "file_extension": ".py",
   "mimetype": "text/x-python",
   "name": "python",
   "nbconvert_exporter": "python",
   "pygments_lexer": "ipython3",
   "version": "3.11.4"
  }
 },
 "nbformat": 4,
 "nbformat_minor": 5
}
