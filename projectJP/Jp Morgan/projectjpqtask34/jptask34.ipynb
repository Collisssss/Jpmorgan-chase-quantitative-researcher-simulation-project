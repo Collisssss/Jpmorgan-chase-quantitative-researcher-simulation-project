{
 "cells": [
  {
   "cell_type": "markdown",
   "id": "337dde45",
   "metadata": {},
   "source": [
    "# Credit risk analysis"
   ]
  },
  {
   "cell_type": "code",
   "execution_count": 23,
   "id": "ee2ef9ed",
   "metadata": {},
   "outputs": [],
   "source": [
    "import pandas as pd\n",
    "from sklearn.model_selection import train_test_split\n",
    "from sklearn.linear_model import LogisticRegression\n",
    "from sklearn.metrics import roc_auc_score\n",
    "\n",
    "import pandas as pd\n",
    "\n",
    "from sklearn.preprocessing import StandardScaler, MinMaxScaler\n"
   ]
  },
  {
   "cell_type": "markdown",
   "id": "1b7a539c",
   "metadata": {},
   "source": [
    "# 数据预处理：\n",
    "\n",
    "清洗数据：检查数据集中是否有缺失值和异常值。\n",
    "\n",
    "特征选择：分析哪些变量与违约风险最相关。\n",
    "\n",
    "特征工程：如有必要，创建新特征（例如，负债收入比）。\n",
    "\n",
    "数据转换：如有必要，进行标准化或缩放数据。\n",
    "\n",
    "# 模型选择：\n",
    "\n",
    "选择多种模型进行测试。考虑到这个问题的性质，逻辑回归、决策树、随机森林、梯度提升机和神经网络可能是不错的候选模型。\n",
    "\n",
    "如果数据集较大，可以先使用简单的模型来建立基准。\n",
    "\n",
    "# 模型训练：\n",
    "\n",
    "将数据分割为训练集和测试集（常见的比例有70/30或80/20）。\n",
    "\n",
    "在训练集上训练模型。\n",
    "\n",
    "使用交叉验证优化超参数，避免过拟合。\n",
    "\n",
    "# 模型评估：\n",
    "\n",
    "使用测试集评估模型。\n",
    "\n",
    "选择适合二元结果预测的分类问题的适当指标，如准确率、ROC-AUC、精确率、召回率和F1分数。\n",
    "\n",
    "对于金融应用程序，您可能还想查看经济措施，如预期损失。\n",
    "\n",
    "# 预期损失计算：\n",
    "\n",
    "预期损失（EL）通常计算为违约概率（PD）、违约损失率（LGD）和违约时暴露额（EAD）的乘积。、\n",
    "\n",
    "在这种情况下，你假设恢复率为10%，这意味着违约损失率为90%。\n",
    "\n",
    "对于给定的贷款，EL = PD * LGD * EAD。\n",
    "\n",
    "# 模型部署：\n",
    "\n",
    "一旦选定了最佳模型，应该在完整数据集上重新训练。\n",
    "\n",
    "实施模型到生产环境中，可以输入贷款属性并输出预期损失。\n",
    "\n",
    "# 模型监控和更新：\n",
    "\n",
    "随着时间的推移需要监控模型的性能，以确保其继续准确预测。\n",
    "\n",
    "如果新数据出现或经济条件发生变化，可能需要更新模型。"
   ]
  },
  {
   "cell_type": "code",
   "execution_count": 1,
   "id": "a979566b",
   "metadata": {},
   "outputs": [],
   "source": [
    "import pandas as pd\n",
    "import matplotlib.pyplot as plt\n",
    "df = pd.read_csv('Loan_Data.csv', index_col='customer_id')\n"
   ]
  },
  {
   "cell_type": "code",
   "execution_count": 2,
   "id": "7d56a26e",
   "metadata": {},
   "outputs": [
    {
     "data": {
      "text/html": [
       "<div>\n",
       "<style scoped>\n",
       "    .dataframe tbody tr th:only-of-type {\n",
       "        vertical-align: middle;\n",
       "    }\n",
       "\n",
       "    .dataframe tbody tr th {\n",
       "        vertical-align: top;\n",
       "    }\n",
       "\n",
       "    .dataframe thead th {\n",
       "        text-align: right;\n",
       "    }\n",
       "</style>\n",
       "<table border=\"1\" class=\"dataframe\">\n",
       "  <thead>\n",
       "    <tr style=\"text-align: right;\">\n",
       "      <th></th>\n",
       "      <th>credit_lines_outstanding</th>\n",
       "      <th>loan_amt_outstanding</th>\n",
       "      <th>total_debt_outstanding</th>\n",
       "      <th>income</th>\n",
       "      <th>years_employed</th>\n",
       "      <th>fico_score</th>\n",
       "      <th>default</th>\n",
       "    </tr>\n",
       "    <tr>\n",
       "      <th>customer_id</th>\n",
       "      <th></th>\n",
       "      <th></th>\n",
       "      <th></th>\n",
       "      <th></th>\n",
       "      <th></th>\n",
       "      <th></th>\n",
       "      <th></th>\n",
       "    </tr>\n",
       "  </thead>\n",
       "  <tbody>\n",
       "    <tr>\n",
       "      <th>8153374</th>\n",
       "      <td>0</td>\n",
       "      <td>5221.545193</td>\n",
       "      <td>3915.471226</td>\n",
       "      <td>78039.38546</td>\n",
       "      <td>5</td>\n",
       "      <td>605</td>\n",
       "      <td>0</td>\n",
       "    </tr>\n",
       "    <tr>\n",
       "      <th>7442532</th>\n",
       "      <td>5</td>\n",
       "      <td>1958.928726</td>\n",
       "      <td>8228.752520</td>\n",
       "      <td>26648.43525</td>\n",
       "      <td>2</td>\n",
       "      <td>572</td>\n",
       "      <td>1</td>\n",
       "    </tr>\n",
       "    <tr>\n",
       "      <th>2256073</th>\n",
       "      <td>0</td>\n",
       "      <td>3363.009259</td>\n",
       "      <td>2027.830850</td>\n",
       "      <td>65866.71246</td>\n",
       "      <td>4</td>\n",
       "      <td>602</td>\n",
       "      <td>0</td>\n",
       "    </tr>\n",
       "    <tr>\n",
       "      <th>4885975</th>\n",
       "      <td>0</td>\n",
       "      <td>4766.648001</td>\n",
       "      <td>2501.730397</td>\n",
       "      <td>74356.88347</td>\n",
       "      <td>5</td>\n",
       "      <td>612</td>\n",
       "      <td>0</td>\n",
       "    </tr>\n",
       "    <tr>\n",
       "      <th>4700614</th>\n",
       "      <td>1</td>\n",
       "      <td>1345.827718</td>\n",
       "      <td>1768.826187</td>\n",
       "      <td>23448.32631</td>\n",
       "      <td>6</td>\n",
       "      <td>631</td>\n",
       "      <td>0</td>\n",
       "    </tr>\n",
       "  </tbody>\n",
       "</table>\n",
       "</div>"
      ],
      "text/plain": [
       "             credit_lines_outstanding  loan_amt_outstanding  \\\n",
       "customer_id                                                   \n",
       "8153374                             0           5221.545193   \n",
       "7442532                             5           1958.928726   \n",
       "2256073                             0           3363.009259   \n",
       "4885975                             0           4766.648001   \n",
       "4700614                             1           1345.827718   \n",
       "\n",
       "             total_debt_outstanding       income  years_employed  fico_score  \\\n",
       "customer_id                                                                    \n",
       "8153374                 3915.471226  78039.38546               5         605   \n",
       "7442532                 8228.752520  26648.43525               2         572   \n",
       "2256073                 2027.830850  65866.71246               4         602   \n",
       "4885975                 2501.730397  74356.88347               5         612   \n",
       "4700614                 1768.826187  23448.32631               6         631   \n",
       "\n",
       "             default  \n",
       "customer_id           \n",
       "8153374            0  \n",
       "7442532            1  \n",
       "2256073            0  \n",
       "4885975            0  \n",
       "4700614            0  "
      ]
     },
     "execution_count": 2,
     "metadata": {},
     "output_type": "execute_result"
    }
   ],
   "source": [
    "df.head()"
   ]
  },
  {
   "cell_type": "code",
   "execution_count": 3,
   "id": "50d49138",
   "metadata": {},
   "outputs": [
    {
     "name": "stdout",
     "output_type": "stream",
     "text": [
      "<class 'pandas.core.frame.DataFrame'>\n",
      "Int64Index: 10000 entries, 8153374 to 5533570\n",
      "Data columns (total 7 columns):\n",
      " #   Column                    Non-Null Count  Dtype  \n",
      "---  ------                    --------------  -----  \n",
      " 0   credit_lines_outstanding  10000 non-null  int64  \n",
      " 1   loan_amt_outstanding      10000 non-null  float64\n",
      " 2   total_debt_outstanding    10000 non-null  float64\n",
      " 3   income                    10000 non-null  float64\n",
      " 4   years_employed            10000 non-null  int64  \n",
      " 5   fico_score                10000 non-null  int64  \n",
      " 6   default                   10000 non-null  int64  \n",
      "dtypes: float64(3), int64(4)\n",
      "memory usage: 625.0 KB\n"
     ]
    }
   ],
   "source": [
    "df.info()"
   ]
  },
  {
   "cell_type": "code",
   "execution_count": 4,
   "id": "9554af1e",
   "metadata": {},
   "outputs": [
    {
     "data": {
      "text/plain": [
       "credit_lines_outstanding    0\n",
       "loan_amt_outstanding        0\n",
       "total_debt_outstanding      0\n",
       "income                      0\n",
       "years_employed              0\n",
       "fico_score                  0\n",
       "default                     0\n",
       "dtype: int64"
      ]
     },
     "execution_count": 4,
     "metadata": {},
     "output_type": "execute_result"
    }
   ],
   "source": [
    "# Check for any missing values in the dataframe\n",
    "df_missing_values = df.isnull().sum()\n",
    "df_missing_values "
   ]
  },
  {
   "cell_type": "code",
   "execution_count": 5,
   "id": "5f26761d",
   "metadata": {},
   "outputs": [
    {
     "name": "stdout",
     "output_type": "stream",
     "text": [
      "default                     1.000000\n",
      "credit_lines_outstanding    0.862815\n",
      "total_debt_outstanding      0.758868\n",
      "loan_amt_outstanding        0.098978\n",
      "income                      0.016309\n",
      "years_employed             -0.284506\n",
      "fico_score                 -0.324515\n",
      "Name: default, dtype: float64\n"
     ]
    }
   ],
   "source": []
  },
  {
   "cell_type": "code",
   "execution_count": 6,
   "id": "45b5ff10",
   "metadata": {},
   "outputs": [
    {
     "data": {
      "text/html": [
       "<div>\n",
       "<style scoped>\n",
       "    .dataframe tbody tr th:only-of-type {\n",
       "        vertical-align: middle;\n",
       "    }\n",
       "\n",
       "    .dataframe tbody tr th {\n",
       "        vertical-align: top;\n",
       "    }\n",
       "\n",
       "    .dataframe thead th {\n",
       "        text-align: right;\n",
       "    }\n",
       "</style>\n",
       "<table border=\"1\" class=\"dataframe\">\n",
       "  <thead>\n",
       "    <tr style=\"text-align: right;\">\n",
       "      <th></th>\n",
       "      <th>credit_lines_outstanding</th>\n",
       "      <th>loan_amt_outstanding</th>\n",
       "      <th>total_debt_outstanding</th>\n",
       "      <th>income</th>\n",
       "      <th>years_employed</th>\n",
       "      <th>fico_score</th>\n",
       "      <th>default</th>\n",
       "      <th>debt_income_ratio</th>\n",
       "    </tr>\n",
       "    <tr>\n",
       "      <th>customer_id</th>\n",
       "      <th></th>\n",
       "      <th></th>\n",
       "      <th></th>\n",
       "      <th></th>\n",
       "      <th></th>\n",
       "      <th></th>\n",
       "      <th></th>\n",
       "      <th></th>\n",
       "    </tr>\n",
       "  </thead>\n",
       "  <tbody>\n",
       "    <tr>\n",
       "      <th>8153374</th>\n",
       "      <td>0</td>\n",
       "      <td>5221.545193</td>\n",
       "      <td>3915.471226</td>\n",
       "      <td>78039.38546</td>\n",
       "      <td>5</td>\n",
       "      <td>605</td>\n",
       "      <td>0</td>\n",
       "      <td>0.050173</td>\n",
       "    </tr>\n",
       "    <tr>\n",
       "      <th>7442532</th>\n",
       "      <td>5</td>\n",
       "      <td>1958.928726</td>\n",
       "      <td>8228.752520</td>\n",
       "      <td>26648.43525</td>\n",
       "      <td>2</td>\n",
       "      <td>572</td>\n",
       "      <td>1</td>\n",
       "      <td>0.308789</td>\n",
       "    </tr>\n",
       "    <tr>\n",
       "      <th>2256073</th>\n",
       "      <td>0</td>\n",
       "      <td>3363.009259</td>\n",
       "      <td>2027.830850</td>\n",
       "      <td>65866.71246</td>\n",
       "      <td>4</td>\n",
       "      <td>602</td>\n",
       "      <td>0</td>\n",
       "      <td>0.030787</td>\n",
       "    </tr>\n",
       "    <tr>\n",
       "      <th>4885975</th>\n",
       "      <td>0</td>\n",
       "      <td>4766.648001</td>\n",
       "      <td>2501.730397</td>\n",
       "      <td>74356.88347</td>\n",
       "      <td>5</td>\n",
       "      <td>612</td>\n",
       "      <td>0</td>\n",
       "      <td>0.033645</td>\n",
       "    </tr>\n",
       "    <tr>\n",
       "      <th>4700614</th>\n",
       "      <td>1</td>\n",
       "      <td>1345.827718</td>\n",
       "      <td>1768.826187</td>\n",
       "      <td>23448.32631</td>\n",
       "      <td>6</td>\n",
       "      <td>631</td>\n",
       "      <td>0</td>\n",
       "      <td>0.075435</td>\n",
       "    </tr>\n",
       "  </tbody>\n",
       "</table>\n",
       "</div>"
      ],
      "text/plain": [
       "             credit_lines_outstanding  loan_amt_outstanding  \\\n",
       "customer_id                                                   \n",
       "8153374                             0           5221.545193   \n",
       "7442532                             5           1958.928726   \n",
       "2256073                             0           3363.009259   \n",
       "4885975                             0           4766.648001   \n",
       "4700614                             1           1345.827718   \n",
       "\n",
       "             total_debt_outstanding       income  years_employed  fico_score  \\\n",
       "customer_id                                                                    \n",
       "8153374                 3915.471226  78039.38546               5         605   \n",
       "7442532                 8228.752520  26648.43525               2         572   \n",
       "2256073                 2027.830850  65866.71246               4         602   \n",
       "4885975                 2501.730397  74356.88347               5         612   \n",
       "4700614                 1768.826187  23448.32631               6         631   \n",
       "\n",
       "             default  debt_income_ratio  \n",
       "customer_id                              \n",
       "8153374            0           0.050173  \n",
       "7442532            1           0.308789  \n",
       "2256073            0           0.030787  \n",
       "4885975            0           0.033645  \n",
       "4700614            0           0.075435  "
      ]
     },
     "execution_count": 6,
     "metadata": {},
     "output_type": "execute_result"
    }
   ],
   "source": [
    "df['debt_income_ratio'] = df['total_debt_outstanding'] / df['income']\n",
    "df.head()"
   ]
  },
  {
   "cell_type": "code",
   "execution_count": 13,
   "id": "9b411dcc",
   "metadata": {},
   "outputs": [
    {
     "data": {
      "text/html": [
       "<div>\n",
       "<style scoped>\n",
       "    .dataframe tbody tr th:only-of-type {\n",
       "        vertical-align: middle;\n",
       "    }\n",
       "\n",
       "    .dataframe tbody tr th {\n",
       "        vertical-align: top;\n",
       "    }\n",
       "\n",
       "    .dataframe thead th {\n",
       "        text-align: right;\n",
       "    }\n",
       "</style>\n",
       "<table border=\"1\" class=\"dataframe\">\n",
       "  <thead>\n",
       "    <tr style=\"text-align: right;\">\n",
       "      <th></th>\n",
       "      <th>credit_lines_outstanding</th>\n",
       "      <th>loan_amt_outstanding</th>\n",
       "      <th>total_debt_outstanding</th>\n",
       "      <th>income</th>\n",
       "      <th>years_employed</th>\n",
       "      <th>fico_score</th>\n",
       "      <th>debt_income_ratio</th>\n",
       "      <th>default</th>\n",
       "    </tr>\n",
       "    <tr>\n",
       "      <th>customer_id</th>\n",
       "      <th></th>\n",
       "      <th></th>\n",
       "      <th></th>\n",
       "      <th></th>\n",
       "      <th></th>\n",
       "      <th></th>\n",
       "      <th></th>\n",
       "      <th></th>\n",
       "    </tr>\n",
       "  </thead>\n",
       "  <tbody>\n",
       "    <tr>\n",
       "      <th>8153374</th>\n",
       "      <td>0</td>\n",
       "      <td>5221.545193</td>\n",
       "      <td>3915.471226</td>\n",
       "      <td>78039.38546</td>\n",
       "      <td>5</td>\n",
       "      <td>605</td>\n",
       "      <td>0.050173</td>\n",
       "      <td>0</td>\n",
       "    </tr>\n",
       "    <tr>\n",
       "      <th>7442532</th>\n",
       "      <td>5</td>\n",
       "      <td>1958.928726</td>\n",
       "      <td>8228.752520</td>\n",
       "      <td>26648.43525</td>\n",
       "      <td>2</td>\n",
       "      <td>572</td>\n",
       "      <td>0.308789</td>\n",
       "      <td>1</td>\n",
       "    </tr>\n",
       "    <tr>\n",
       "      <th>2256073</th>\n",
       "      <td>0</td>\n",
       "      <td>3363.009259</td>\n",
       "      <td>2027.830850</td>\n",
       "      <td>65866.71246</td>\n",
       "      <td>4</td>\n",
       "      <td>602</td>\n",
       "      <td>0.030787</td>\n",
       "      <td>0</td>\n",
       "    </tr>\n",
       "    <tr>\n",
       "      <th>4885975</th>\n",
       "      <td>0</td>\n",
       "      <td>4766.648001</td>\n",
       "      <td>2501.730397</td>\n",
       "      <td>74356.88347</td>\n",
       "      <td>5</td>\n",
       "      <td>612</td>\n",
       "      <td>0.033645</td>\n",
       "      <td>0</td>\n",
       "    </tr>\n",
       "    <tr>\n",
       "      <th>4700614</th>\n",
       "      <td>1</td>\n",
       "      <td>1345.827718</td>\n",
       "      <td>1768.826187</td>\n",
       "      <td>23448.32631</td>\n",
       "      <td>6</td>\n",
       "      <td>631</td>\n",
       "      <td>0.075435</td>\n",
       "      <td>0</td>\n",
       "    </tr>\n",
       "  </tbody>\n",
       "</table>\n",
       "</div>"
      ],
      "text/plain": [
       "             credit_lines_outstanding  loan_amt_outstanding  \\\n",
       "customer_id                                                   \n",
       "8153374                             0           5221.545193   \n",
       "7442532                             5           1958.928726   \n",
       "2256073                             0           3363.009259   \n",
       "4885975                             0           4766.648001   \n",
       "4700614                             1           1345.827718   \n",
       "\n",
       "             total_debt_outstanding       income  years_employed  fico_score  \\\n",
       "customer_id                                                                    \n",
       "8153374                 3915.471226  78039.38546               5         605   \n",
       "7442532                 8228.752520  26648.43525               2         572   \n",
       "2256073                 2027.830850  65866.71246               4         602   \n",
       "4885975                 2501.730397  74356.88347               5         612   \n",
       "4700614                 1768.826187  23448.32631               6         631   \n",
       "\n",
       "             debt_income_ratio  default  \n",
       "customer_id                              \n",
       "8153374               0.050173        0  \n",
       "7442532               0.308789        1  \n",
       "2256073               0.030787        0  \n",
       "4885975               0.033645        0  \n",
       "4700614               0.075435        0  "
      ]
     },
     "execution_count": 13,
     "metadata": {},
     "output_type": "execute_result"
    }
   ],
   "source": [
    "# 获取列名列表\n",
    "columns = list(df.columns)\n",
    "\n",
    "# 找到'debt_income_ratio'列的索引\n",
    "debt_income_ratio_index = columns.index('debt_income_ratio')\n",
    "\n",
    "# 移除'default'列\n",
    "columns.remove('default')\n",
    "\n",
    "# 在'debt_income_ratio'索引的位置插入'default'列\n",
    "columns.insert(debt_income_ratio_index, 'default')\n",
    "\n",
    "# 使用新的列顺序重新索引DataFrame\n",
    "df = df[columns]\n",
    "\n",
    "# 查看前几行以确认新的列顺序\n",
    "df.head()"
   ]
  },
  {
   "cell_type": "code",
   "execution_count": 14,
   "id": "18876823",
   "metadata": {},
   "outputs": [
    {
     "name": "stdout",
     "output_type": "stream",
     "text": [
      "default                     1.000000\n",
      "credit_lines_outstanding    0.862815\n",
      "debt_income_ratio           0.852406\n",
      "total_debt_outstanding      0.758868\n",
      "loan_amt_outstanding        0.098978\n",
      "income                      0.016309\n",
      "years_employed             -0.284506\n",
      "fico_score                 -0.324515\n",
      "Name: default, dtype: float64\n"
     ]
    }
   ],
   "source": [
    "correlation_matrix = df.corr()\n",
    "print(correlation_matrix['default'].sort_values(ascending=False))\n"
   ]
  },
  {
   "cell_type": "markdown",
   "id": "17e10812",
   "metadata": {},
   "source": [
    "credit_lines_outstanding（未偿信用额度）与default的相关系数为0.862815，这意味着它们之间存在较强的正相关关系。未偿信用额度的增加似乎与违约的可能性增加相关。\n",
    "\n",
    "fico_score（FICO信用评分）与default的相关系数为-0.324515，显示出中等程度的负相关，这意味着较高的FICO评分可能与较低的违约概率相关。\n",
    "\n",
    "所以说明default与credit lines outstanding，debt income ratio和total debt outstanding有关"
   ]
  },
  {
   "cell_type": "code",
   "execution_count": 18,
   "id": "84d29dd6",
   "metadata": {},
   "outputs": [
    {
     "data": {
      "image/png": "[encoded data removed]",
      "text/plain": [
       "<Figure size 700x500 with 2 Axes>"
      ]
     },
     "metadata": {},
     "output_type": "display_data"
    }
   ],
   "source": [
    "import seaborn as sns\n",
    "\n",
    "plt.figure(figsize=(7, 5))\n",
    "sns.heatmap(correlation_matrix, annot=True, cmap='coolwarm', fmt=\".2f\", square=True)\n",
    "plt.title('Full Square Correlation Matrix')\n",
    "plt.show()"
   ]
  },
  {
   "cell_type": "code",
   "execution_count": 21,
   "id": "aa277abe",
   "metadata": {},
   "outputs": [
    {
     "data": {
      "text/plain": [
       "customer_id\n",
       "8153374    0\n",
       "7442532    1\n",
       "2256073    0\n",
       "4885975    0\n",
       "4700614    0\n",
       "Name: default, dtype: int64"
      ]
     },
     "execution_count": 21,
     "metadata": {},
     "output_type": "execute_result"
    }
   ],
   "source": [
    "test = df['default']\n"
   ]
  },
  {
   "cell_type": "code",
   "execution_count": 25,
   "id": "7594eed0",
   "metadata": {},
   "outputs": [],
   "source": [
    "scaler = StandardScaler()\n",
    "df_scaled = scaler.fit_transform(df.drop('default',axis = 1))#这个不会删除原始的数据，axis =1是删除列，不设置不行\n",
    "X_train, X_test, y_train, y_test = train_test_split(df_scaled, df['default'], test_size=0.2, random_state=42)\n",
    "#random state是可以让每次的train test数据集都相同，随机数一样"
   ]
  },
  {
   "cell_type": "code",
   "execution_count": 27,
   "id": "47b71717",
   "metadata": {},
   "outputs": [
    {
     "data": {
      "text/plain": [
       "array([[-0.83795996, -0.81216178, -0.67943488, ...,  0.28542543,\n",
       "         1.22730946, -0.68899362],\n",
       "       [-0.26448613,  0.39261009,  0.00634349, ..., -0.9910747 ,\n",
       "         1.0294688 ,  0.16726717],\n",
       "       [-0.83795996,  0.86880779, -0.55745299, ...,  0.92367549,\n",
       "         1.09541569, -0.74938476],\n",
       "       ...,\n",
       "       [-0.83795996, -0.03803805, -0.32391523, ..., -0.9910747 ,\n",
       "        -1.01488465, -0.52150588],\n",
       "       [ 0.88246152,  0.52047561,  1.36973422, ..., -1.62932476,\n",
       "        -1.37759252,  1.15117823],\n",
       "       [-0.26448613,  0.07872706, -0.2260302 , ...,  2.83842568,\n",
       "        -0.6686635 , -0.44935038]])"
      ]
     },
     "execution_count": 27,
     "metadata": {},
     "output_type": "execute_result"
    }
   ],
   "source": []
  },
  {
   "cell_type": "code",
   "execution_count": 29,
   "id": "06677016",
   "metadata": {},
   "outputs": [
    {
     "data": {
      "text/html": [
       "<style>#sk-container-id-1 {color: black;}#sk-container-id-1 pre{padding: 0;}#sk-container-id-1 div.sk-toggleable {background-color: white;}#sk-container-id-1 label.sk-toggleable__label {cursor: pointer;display: block;width: 100%;margin-bottom: 0;padding: 0.3em;box-sizing: border-box;text-align: center;}#sk-container-id-1 label.sk-toggleable__label-arrow:before {content: \"▸\";float: left;margin-right: 0.25em;color: #696969;}#sk-container-id-1 label.sk-toggleable__label-arrow:hover:before {color: black;}#sk-container-id-1 div.sk-estimator:hover label.sk-toggleable__label-arrow:before {color: black;}#sk-container-id-1 div.sk-toggleable__content {max-height: 0;max-width: 0;overflow: hidden;text-align: left;background-color: #f0f8ff;}#sk-container-id-1 div.sk-toggleable__content pre {margin: 0.2em;color: black;border-radius: 0.25em;background-color: #f0f8ff;}#sk-container-id-1 input.sk-toggleable__control:checked~div.sk-toggleable__content {max-height: 200px;max-width: 100%;overflow: auto;}#sk-container-id-1 input.sk-toggleable__control:checked~label.sk-toggleable__label-arrow:before {content: \"▾\";}#sk-container-id-1 div.sk-estimator input.sk-toggleable__control:checked~label.sk-toggleable__label {background-color: #d4ebff;}#sk-container-id-1 div.sk-label input.sk-toggleable__control:checked~label.sk-toggleable__label {background-color: #d4ebff;}#sk-container-id-1 input.sk-hidden--visually {border: 0;clip: rect(1px 1px 1px 1px);clip: rect(1px, 1px, 1px, 1px);height: 1px;margin: -1px;overflow: hidden;padding: 0;position: absolute;width: 1px;}#sk-container-id-1 div.sk-estimator {font-family: monospace;background-color: #f0f8ff;border: 1px dotted black;border-radius: 0.25em;box-sizing: border-box;margin-bottom: 0.5em;}#sk-container-id-1 div.sk-estimator:hover {background-color: #d4ebff;}#sk-container-id-1 div.sk-parallel-item::after {content: \"\";width: 100%;border-bottom: 1px solid gray;flex-grow: 1;}#sk-container-id-1 div.sk-label:hover label.sk-toggleable__label {background-color: #d4ebff;}#sk-container-id-1 div.sk-serial::before {content: \"\";position: absolute;border-left: 1px solid gray;box-sizing: border-box;top: 0;bottom: 0;left: 50%;z-index: 0;}#sk-container-id-1 div.sk-serial {display: flex;flex-direction: column;align-items: center;background-color: white;padding-right: 0.2em;padding-left: 0.2em;position: relative;}#sk-container-id-1 div.sk-item {position: relative;z-index: 1;}#sk-container-id-1 div.sk-parallel {display: flex;align-items: stretch;justify-content: center;background-color: white;position: relative;}#sk-container-id-1 div.sk-item::before, #sk-container-id-1 div.sk-parallel-item::before {content: \"\";position: absolute;border-left: 1px solid gray;box-sizing: border-box;top: 0;bottom: 0;left: 50%;z-index: -1;}#sk-container-id-1 div.sk-parallel-item {display: flex;flex-direction: column;z-index: 1;position: relative;background-color: white;}#sk-container-id-1 div.sk-parallel-item:first-child::after {align-self: flex-end;width: 50%;}#sk-container-id-1 div.sk-parallel-item:last-child::after {align-self: flex-start;width: 50%;}#sk-container-id-1 div.sk-parallel-item:only-child::after {width: 0;}#sk-container-id-1 div.sk-dashed-wrapped {border: 1px dashed gray;margin: 0 0.4em 0.5em 0.4em;box-sizing: border-box;padding-bottom: 0.4em;background-color: white;}#sk-container-id-1 div.sk-label label {font-family: monospace;font-weight: bold;display: inline-block;line-height: 1.2em;}#sk-container-id-1 div.sk-label-container {text-align: center;}#sk-container-id-1 div.sk-container {/* jupyter's `normalize.less` sets `[hidden] { display: none; }` but bootstrap.min.css set `[hidden] { display: none !important; }` so we also need the `!important` here to be able to override the default hidden behavior on the sphinx rendered scikit-learn.org. See: https://github.com/scikit-learn/scikit-learn/issues/21755 */display: inline-block !important;position: relative;}#sk-container-id-1 div.sk-text-repr-fallback {display: none;}</style><div id=\"sk-container-id-1\" class=\"sk-top-container\"><div class=\"sk-text-repr-fallback\"><pre>GradientBoostingClassifier(random_state=42)</pre><b>In a Jupyter environment, please rerun this cell to show the HTML representation or trust the notebook. <br />On GitHub, the HTML representation is unable to render, please try loading this page with nbviewer.org.</b></div><div class=\"sk-container\" hidden><div class=\"sk-item\"><div class=\"sk-estimator sk-toggleable\"><input class=\"sk-toggleable__control sk-hidden--visually\" id=\"sk-estimator-id-1\" type=\"checkbox\" checked><label for=\"sk-estimator-id-1\" class=\"sk-toggleable__label sk-toggleable__label-arrow\">GradientBoostingClassifier</label><div class=\"sk-toggleable__content\"><pre>GradientBoostingClassifier(random_state=42)</pre></div></div></div></div></div>"
      ],
      "text/plain": [
       "GradientBoostingClassifier(random_state=42)"
      ]
     },
     "execution_count": 29,
     "metadata": {},
     "output_type": "execute_result"
    }
   ],
   "source": [
    "from sklearn.linear_model import LogisticRegression\n",
    "from sklearn.tree import DecisionTreeClassifier\n",
    "from sklearn.ensemble import RandomForestClassifier, GradientBoostingClassifier\n",
    "from sklearn.metrics import accuracy_score, roc_auc_score\n",
    "# 初始化模型\n",
    "logreg = LogisticRegression(random_state=42)\n",
    "decision_tree = DecisionTreeClassifier(random_state=42)\n",
    "random_forest = RandomForestClassifier(random_state=42)\n",
    "gboost = GradientBoostingClassifier(random_state=42)\n",
    "\n",
    "# 训练逻辑回归模型\n",
    "logreg.fit(X_train, y_train)\n",
    "\n",
    "# 训练决策树模型\n",
    "decision_tree.fit(X_train, y_train)\n",
    "\n",
    "# 训练随机森林模型\n",
    "random_forest.fit(X_train, y_train)\n",
    "\n",
    "# 训练梯度提升机模型\n",
    "gboost.fit(X_train, y_train)\n"
   ]
  },
  {
   "cell_type": "code",
   "execution_count": 30,
   "id": "79249485",
   "metadata": {},
   "outputs": [
    {
     "name": "stdout",
     "output_type": "stream",
     "text": [
      "Logistic Regression ROC-AUC: 0.9913793103448276\n",
      "Decision Tree ROC-AUC: 0.984647658011188\n",
      "Random Forest ROC-AUC: 0.9858583117642147\n",
      "Gradient Boosting ROC-AUC: 0.990168656591801\n"
     ]
    }
   ],
   "source": [
    "# 逻辑回归性能\n",
    "logreg_pred = logreg.predict(X_test)\n",
    "logreg_roc_auc = roc_auc_score(y_test, logreg_pred)\n",
    "print(f\"Logistic Regression ROC-AUC: {logreg_roc_auc}\")\n",
    "\n",
    "# 决策树性能\n",
    "decision_tree_pred = decision_tree.predict(X_test)\n",
    "decision_tree_roc_auc = roc_auc_score(y_test, decision_tree_pred)\n",
    "print(f\"Decision Tree ROC-AUC: {decision_tree_roc_auc}\")\n",
    "\n",
    "# 随机森林性能\n",
    "random_forest_pred = random_forest.predict(X_test)\n",
    "random_forest_roc_auc = roc_auc_score(y_test, random_forest_pred)\n",
    "print(f\"Random Forest ROC-AUC: {random_forest_roc_auc}\")\n",
    "\n",
    "# 梯度提升机性能\n",
    "gboost_pred = gboost.predict(X_test)\n",
    "gboost_roc_auc = roc_auc_score(y_test, gboost_pred)\n",
    "print(f\"Gradient Boosting ROC-AUC: {gboost_roc_auc}\")\n"
   ]
  },
  {
   "cell_type": "markdown",
   "id": "d9ba60b5",
   "metadata": {},
   "source": [
    "ROC曲线（受试者工作特征曲线）是一个用来展示分类模型性能的图形化工具。ROC曲线下方的面积（AUC）越大，模型的分类性能越好。ROC曲线通过绘制不同阈值下的真正类率（True Positive Rate, TPR）与假正类率（False Positive Rate, FPR）来展示模型性能。"
   ]
  },
  {
   "cell_type": "code",
   "execution_count": 31,
   "id": "39062eda",
   "metadata": {},
   "outputs": [
    {
     "data": {
      "image/png": "[encoded data removed]",
      "text/plain": [
       "<Figure size 1000x800 with 1 Axes>"
      ]
     },
     "metadata": {},
     "output_type": "display_data"
    }
   ],
   "source": [
    "from sklearn.metrics import roc_curve, auc\n",
    "import matplotlib.pyplot as plt\n",
    "\n",
    "# 计算各个模型的ROC曲线\n",
    "fpr_logreg, tpr_logreg, _ = roc_curve(y_test, logreg.predict_proba(X_test)[:, 1])\n",
    "roc_auc_logreg = auc(fpr_logreg, tpr_logreg)\n",
    "\n",
    "fpr_dtree, tpr_dtree, _ = roc_curve(y_test, decision_tree.predict_proba(X_test)[:, 1])\n",
    "roc_auc_dtree = auc(fpr_dtree, tpr_dtree)\n",
    "\n",
    "fpr_rf, tpr_rf, _ = roc_curve(y_test, random_forest.predict_proba(X_test)[:, 1])\n",
    "roc_auc_rf = auc(fpr_rf, tpr_rf)\n",
    "\n",
    "fpr_gboost, tpr_gboost, _ = roc_curve(y_test, gboost.predict_proba(X_test)[:, 1])\n",
    "roc_auc_gboost = auc(fpr_gboost, tpr_gboost)\n",
    "\n",
    "# 绘制ROC曲线\n",
    "plt.figure(figsize=(10, 8))\n",
    "plt.plot(fpr_logreg, tpr_logreg, color='orange', label=f'Logistic Regression (AUC = {roc_auc_logreg:.2f})')\n",
    "plt.plot(fpr_dtree, tpr_dtree, color='green', label=f'Decision Tree (AUC = {roc_auc_dtree:.2f})')\n",
    "plt.plot(fpr_rf, tpr_rf, color='blue', label=f'Random Forest (AUC = {roc_auc_rf:.2f})')\n",
    "plt.plot(fpr_gboost, tpr_gboost, color='red', label=f'Gradient Boosting (AUC = {roc_auc_gboost:.2f})')\n",
    "\n",
    "plt.plot([0, 1], [0, 1], color='navy', linestyle='--')\n",
    "plt.xlabel('False Positive Rate')\n",
    "plt.ylabel('True Positive Rate')\n",
    "plt.title('Receiver Operating Characteristic')\n",
    "plt.legend(loc=\"lower right\")\n",
    "plt.show()\n"
   ]
  },
  {
   "cell_type": "code",
   "execution_count": null,
   "id": "9ba78983",
   "metadata": {},
   "outputs": [],
   "source": []
  },
  {
   "cell_type": "markdown",
   "id": "0c707d34",
   "metadata": {},
   "source": [
    "交叉验证：运行交叉验证来确保这些评分的稳定性和可靠性。\n",
    "\n",
    "超参数调优：使用网格搜索或随机搜索等技术来寻找每个模型的最佳超参数组合。\n",
    "\n",
    "你可以使用cross_val_score函数。这个函数会对数据进行多次拆分，每次拆分都会产生不同的训练集和验证集，然后对模型进行评估。\n",
    "\n",
    "对于超参数调优，你可以使用网格搜索(GridSearchCV)或随机搜索(RandomizedSearchCV)。网格搜索会遍历所有的参数组合，而随机搜索则在给定的参数范围内随机选择组合。"
   ]
  },
  {
   "cell_type": "code",
   "execution_count": 33,
   "id": "50afe46b",
   "metadata": {},
   "outputs": [
    {
     "name": "stdout",
     "output_type": "stream",
     "text": [
      "Logistic Regression CV ROC-AUC: 1.00 ± 0.00\n"
     ]
    }
   ],
   "source": [
    "from sklearn.model_selection import cross_val_score\n",
    "\n",
    "# 对逻辑回归模型进行交叉验证\n",
    "logreg_cv_scores = cross_val_score(logreg, df_scaled, df['default'], cv=5, scoring='roc_auc')\n",
    "\n",
    "# 打印交叉验证的平均ROC-AUC分数\n",
    "print(f\"Logistic Regression CV ROC-AUC: {logreg_cv_scores.mean():.2f} ± {logreg_cv_scores.std():.2f}\")\n",
    "\n",
    "\n",
    "\n",
    "\n",
    "\n"
   ]
  },
  {
   "cell_type": "code",
   "execution_count": 34,
   "id": "b76a7692",
   "metadata": {},
   "outputs": [
    {
     "name": "stdout",
     "output_type": "stream",
     "text": [
      "decision_tree CV ROC-AUC: 0.99 ± 0.01\n"
     ]
    }
   ],
   "source": [
    "\n",
    "# 对逻辑回归模型进行交叉验证\n",
    "decision_tree_cv_scores = cross_val_score(decision_tree, df_scaled, df['default'], cv=5, scoring='roc_auc')\n",
    "\n",
    "# 打印交叉验证的平均ROC-AUC分数\n",
    "print(f\"decision_tree CV ROC-AUC: {decision_tree_cv_scores.mean():.2f} ± {decision_tree_cv_scores.std():.2f}\")\n"
   ]
  },
  {
   "cell_type": "code",
   "execution_count": 36,
   "id": "389a3dcb",
   "metadata": {},
   "outputs": [
    {
     "name": "stdout",
     "output_type": "stream",
     "text": [
      "random_forest CV ROC-AUC: 1.00 ± 0.00\n"
     ]
    }
   ],
   "source": [
    "\n",
    "# 对逻辑回归模型进行交叉验证\n",
    "random_forest_cv_scores = cross_val_score(random_forest, df_scaled, df['default'], cv=5, scoring='roc_auc')\n",
    "\n",
    "# 打印交叉验证的平均ROC-AUC分数\n",
    "print(f\"random_forest CV ROC-AUC: {random_forest_cv_scores.mean():.2f} ± {random_forest_cv_scores.std():.2f}\")\n"
   ]
  },
  {
   "cell_type": "code",
   "execution_count": 37,
   "id": "08a1629b",
   "metadata": {},
   "outputs": [
    {
     "name": "stdout",
     "output_type": "stream",
     "text": [
      "gboost CV ROC-AUC: 1.00 ± 0.00\n"
     ]
    }
   ],
   "source": [
    "\n",
    "# 对逻辑回归模型进行交叉验证\n",
    "gboost_cv_scores = cross_val_score(gboost, df_scaled, df['default'], cv=5, scoring='roc_auc')\n",
    "\n",
    "# 打印交叉验证的平均ROC-AUC分数\n",
    "print(f\"gboost CV ROC-AUC: {gboost_cv_scores.mean():.2f} ± {gboost_cv_scores.std():.2f}\")\n"
   ]
  },
  {
   "cell_type": "code",
   "execution_count": 38,
   "id": "867feba6",
   "metadata": {},
   "outputs": [
    {
     "name": "stderr",
     "output_type": "stream",
     "text": [
      "/Applications/anaconda3/lib/python3.11/site-packages/sklearn/model_selection/_validation.py:425: FitFailedWarning: \n",
      "90 fits failed out of a total of 270.\n",
      "The score on these train-test partitions for these parameters will be set to nan.\n",
      "If these failures are not expected, you can try to debug them by setting error_score='raise'.\n",
      "\n",
      "Below are more details about the failures:\n",
      "--------------------------------------------------------------------------------\n",
      "90 fits failed with the following error:\n",
      "Traceback (most recent call last):\n",
      "  File \"/Applications/anaconda3/lib/python3.11/site-packages/sklearn/model_selection/_validation.py\", line 732, in _fit_and_score\n",
      "    estimator.fit(X_train, y_train, **fit_params)\n",
      "  File \"/Applications/anaconda3/lib/python3.11/site-packages/sklearn/base.py\", line 1144, in wrapper\n",
      "    estimator._validate_params()\n",
      "  File \"/Applications/anaconda3/lib/python3.11/site-packages/sklearn/base.py\", line 637, in _validate_params\n",
      "    validate_parameter_constraints(\n",
      "  File \"/Applications/anaconda3/lib/python3.11/site-packages/sklearn/utils/_param_validation.py\", line 95, in validate_parameter_constraints\n",
      "    raise InvalidParameterError(\n",
      "sklearn.utils._param_validation.InvalidParameterError: The 'max_features' parameter of RandomForestClassifier must be an int in the range [1, inf), a float in the range (0.0, 1.0], a str among {'log2', 'sqrt'} or None. Got 'auto' instead.\n",
      "\n",
      "  warnings.warn(some_fits_failed_message, FitFailedWarning)\n",
      "/Applications/anaconda3/lib/python3.11/site-packages/sklearn/model_selection/_search.py:976: UserWarning: One or more of the test scores are non-finite: [       nan        nan        nan 0.99930909 0.9992829  0.99930711\n",
      " 0.99930909 0.9992829  0.99930711        nan        nan        nan\n",
      " 0.99969866 0.99969733 0.99969303 0.99969866 0.99969733 0.99969303\n",
      "        nan        nan        nan 0.99978485 0.99978452 0.99978651\n",
      " 0.99978485 0.99978452 0.99978651        nan        nan        nan\n",
      " 0.99935351 0.99932963 0.99935749 0.99935351 0.99932963 0.99935749\n",
      "        nan        nan        nan 0.99971055 0.99972846 0.99973841\n",
      " 0.99971055 0.99972846 0.99973841        nan        nan        nan\n",
      " 0.99980639 0.99980373 0.99981301 0.99980639 0.99980373 0.99981301]\n",
      "  warnings.warn(\n"
     ]
    },
    {
     "name": "stdout",
     "output_type": "stream",
     "text": [
      "{'criterion': 'entropy', 'max_depth': 8, 'max_features': 'sqrt', 'n_estimators': 300}\n",
      "Random Forest best CV ROC-AUC: 1.00\n"
     ]
    }
   ],
   "source": [
    "from sklearn.model_selection import GridSearchCV\n",
    "\n",
    "# 设置想要优化的超参数和它们的范围\n",
    "param_grid = {\n",
    "    'n_estimators': [100, 200, 300],\n",
    "    'max_features': ['auto', 'sqrt', 'log2'],\n",
    "    'max_depth' : [4,6,8],\n",
    "    'criterion' :['gini', 'entropy']\n",
    "}\n",
    "\n",
    "# 创建GridSearchCV对象\n",
    "CV_rfc = GridSearchCV(estimator=random_forest, param_grid=param_grid, cv=5, scoring='roc_auc')\n",
    "\n",
    "# 运行网格搜索\n",
    "CV_rfc.fit(df_scaled, df['default'])\n",
    "\n",
    "# 打印最佳参数组合\n",
    "print(CV_rfc.best_params_)\n",
    "\n",
    "# 打印最佳参数的ROC-AUC分数\n",
    "print(f\"Random Forest best CV ROC-AUC: {CV_rfc.best_score_:.2f}\")\n"
   ]
  },
  {
   "cell_type": "markdown",
   "id": "05826d16",
   "metadata": {},
   "source": [
    "预期损失计算：¶\n",
    "预期损失（EL）通常计算为违约概率（PD）、违约损失率（LGD）和违约时暴露额（EAD）的乘积。、\n",
    "\n",
    "在这种情况下，你假设恢复率为10%，这意味着违约损失率为90%。\n",
    "\n",
    "对于给定的贷款，EL = PD * LGD * EAD。\n",
    "\n",
    "模型部署：\n",
    "一旦选定了最佳模型，应该在完整数据集上重新训练。\n",
    "\n",
    "实施模型到生产环境中，可以输入贷款属性并输出预期损失。\n",
    "\n",
    "假设我选择随机森林，之后怎么做\n",
    "\n"
   ]
  },
  {
   "cell_type": "code",
   "execution_count": 39,
   "id": "3a62a59e",
   "metadata": {},
   "outputs": [
    {
     "data": {
      "text/html": [
       "<style>#sk-container-id-2 {color: black;}#sk-container-id-2 pre{padding: 0;}#sk-container-id-2 div.sk-toggleable {background-color: white;}#sk-container-id-2 label.sk-toggleable__label {cursor: pointer;display: block;width: 100%;margin-bottom: 0;padding: 0.3em;box-sizing: border-box;text-align: center;}#sk-container-id-2 label.sk-toggleable__label-arrow:before {content: \"▸\";float: left;margin-right: 0.25em;color: #696969;}#sk-container-id-2 label.sk-toggleable__label-arrow:hover:before {color: black;}#sk-container-id-2 div.sk-estimator:hover label.sk-toggleable__label-arrow:before {color: black;}#sk-container-id-2 div.sk-toggleable__content {max-height: 0;max-width: 0;overflow: hidden;text-align: left;background-color: #f0f8ff;}#sk-container-id-2 div.sk-toggleable__content pre {margin: 0.2em;color: black;border-radius: 0.25em;background-color: #f0f8ff;}#sk-container-id-2 input.sk-toggleable__control:checked~div.sk-toggleable__content {max-height: 200px;max-width: 100%;overflow: auto;}#sk-container-id-2 input.sk-toggleable__control:checked~label.sk-toggleable__label-arrow:before {content: \"▾\";}#sk-container-id-2 div.sk-estimator input.sk-toggleable__control:checked~label.sk-toggleable__label {background-color: #d4ebff;}#sk-container-id-2 div.sk-label input.sk-toggleable__control:checked~label.sk-toggleable__label {background-color: #d4ebff;}#sk-container-id-2 input.sk-hidden--visually {border: 0;clip: rect(1px 1px 1px 1px);clip: rect(1px, 1px, 1px, 1px);height: 1px;margin: -1px;overflow: hidden;padding: 0;position: absolute;width: 1px;}#sk-container-id-2 div.sk-estimator {font-family: monospace;background-color: #f0f8ff;border: 1px dotted black;border-radius: 0.25em;box-sizing: border-box;margin-bottom: 0.5em;}#sk-container-id-2 div.sk-estimator:hover {background-color: #d4ebff;}#sk-container-id-2 div.sk-parallel-item::after {content: \"\";width: 100%;border-bottom: 1px solid gray;flex-grow: 1;}#sk-container-id-2 div.sk-label:hover label.sk-toggleable__label {background-color: #d4ebff;}#sk-container-id-2 div.sk-serial::before {content: \"\";position: absolute;border-left: 1px solid gray;box-sizing: border-box;top: 0;bottom: 0;left: 50%;z-index: 0;}#sk-container-id-2 div.sk-serial {display: flex;flex-direction: column;align-items: center;background-color: white;padding-right: 0.2em;padding-left: 0.2em;position: relative;}#sk-container-id-2 div.sk-item {position: relative;z-index: 1;}#sk-container-id-2 div.sk-parallel {display: flex;align-items: stretch;justify-content: center;background-color: white;position: relative;}#sk-container-id-2 div.sk-item::before, #sk-container-id-2 div.sk-parallel-item::before {content: \"\";position: absolute;border-left: 1px solid gray;box-sizing: border-box;top: 0;bottom: 0;left: 50%;z-index: -1;}#sk-container-id-2 div.sk-parallel-item {display: flex;flex-direction: column;z-index: 1;position: relative;background-color: white;}#sk-container-id-2 div.sk-parallel-item:first-child::after {align-self: flex-end;width: 50%;}#sk-container-id-2 div.sk-parallel-item:last-child::after {align-self: flex-start;width: 50%;}#sk-container-id-2 div.sk-parallel-item:only-child::after {width: 0;}#sk-container-id-2 div.sk-dashed-wrapped {border: 1px dashed gray;margin: 0 0.4em 0.5em 0.4em;box-sizing: border-box;padding-bottom: 0.4em;background-color: white;}#sk-container-id-2 div.sk-label label {font-family: monospace;font-weight: bold;display: inline-block;line-height: 1.2em;}#sk-container-id-2 div.sk-label-container {text-align: center;}#sk-container-id-2 div.sk-container {/* jupyter's `normalize.less` sets `[hidden] { display: none; }` but bootstrap.min.css set `[hidden] { display: none !important; }` so we also need the `!important` here to be able to override the default hidden behavior on the sphinx rendered scikit-learn.org. See: https://github.com/scikit-learn/scikit-learn/issues/21755 */display: inline-block !important;position: relative;}#sk-container-id-2 div.sk-text-repr-fallback {display: none;}</style><div id=\"sk-container-id-2\" class=\"sk-top-container\"><div class=\"sk-text-repr-fallback\"><pre>RandomForestClassifier(criterion=&#x27;entropy&#x27;, max_depth=8, n_estimators=300,\n",
       "                       random_state=42)</pre><b>In a Jupyter environment, please rerun this cell to show the HTML representation or trust the notebook. <br />On GitHub, the HTML representation is unable to render, please try loading this page with nbviewer.org.</b></div><div class=\"sk-container\" hidden><div class=\"sk-item\"><div class=\"sk-estimator sk-toggleable\"><input class=\"sk-toggleable__control sk-hidden--visually\" id=\"sk-estimator-id-2\" type=\"checkbox\" checked><label for=\"sk-estimator-id-2\" class=\"sk-toggleable__label sk-toggleable__label-arrow\">RandomForestClassifier</label><div class=\"sk-toggleable__content\"><pre>RandomForestClassifier(criterion=&#x27;entropy&#x27;, max_depth=8, n_estimators=300,\n",
       "                       random_state=42)</pre></div></div></div></div></div>"
      ],
      "text/plain": [
       "RandomForestClassifier(criterion='entropy', max_depth=8, n_estimators=300,\n",
       "                       random_state=42)"
      ]
     },
     "execution_count": 39,
     "metadata": {},
     "output_type": "execute_result"
    }
   ],
   "source": [
    "# 假设你已经有了最佳超参数设置，例如：\n",
    "best_params = CV_rfc.best_params_\n",
    "\n",
    "# 创建一个新的随机森林模型实例，使用最佳超参数\n",
    "final_model = RandomForestClassifier(**best_params, random_state=42)\n",
    "\n",
    "# 使用整个数据集重新训练模型\n",
    "final_model.fit(df_scaled, df['default'])\n"
   ]
  },
  {
   "cell_type": "code",
   "execution_count": 40,
   "id": "f200615d",
   "metadata": {},
   "outputs": [],
   "source": [
    "def calculate_expected_loss(model, features, EAD, LGD=0.9):\n",
    "    # 获取违约概率\n",
    "    PD = model.predict_proba(features)[:, 1]#sklearn 所有的函数都有这个predict——proba\n",
    "    # 计算预期损失\n",
    "    EL = PD * LGD * EAD\n",
    "    return EL\n"
   ]
  },
  {
   "cell_type": "code",
   "execution_count": 52,
   "id": "ed20ed89",
   "metadata": {},
   "outputs": [],
   "source": [
    "# 假设 `features` 是你要评估的贷款的特征数组或DataFrame，已经过预处理和标准化\n",
    "# 假设 `EAD` 是这笔贷款的违约时的暴露额\n",
    "last_row = df_scaled[-1]\n",
    "EAD = df['loan_amt_outstanding'].iloc[-1]\n",
    "features = last_row.reshape(1, -1)\n",
    "\n"
   ]
  },
  {
   "cell_type": "code",
   "execution_count": 58,
   "id": "cb8a559f",
   "metadata": {},
   "outputs": [
    {
     "data": {
      "text/plain": [
       "0"
      ]
     },
     "execution_count": 58,
     "metadata": {},
     "output_type": "execute_result"
    }
   ],
   "source": []
  },
  {
   "cell_type": "code",
   "execution_count": 54,
   "id": "86b39851",
   "metadata": {},
   "outputs": [
    {
     "data": {
      "text/plain": [
       "array([0.])"
      ]
     },
     "execution_count": 54,
     "metadata": {},
     "output_type": "execute_result"
    }
   ],
   "source": [
    "# 计算预期损失\n",
    "expected_loss = calculate_expected_loss(final_model, features, EAD)\n",
    "expected_loss "
   ]
  },
  {
   "cell_type": "code",
   "execution_count": null,
   "id": "9d479d90",
   "metadata": {},
   "outputs": [],
   "source": []
  }
 ],
 "metadata": {
  "kernelspec": {
   "display_name": "Python 3 (ipykernel)",
   "language": "python",
   "name": "python3"
  },
  "language_info": {
   "codemirror_mode": {
    "name": "ipython",
    "version": 3
   },
   "file_extension": ".py",
   "mimetype": "text/x-python",
   "name": "python",
   "nbconvert_exporter": "python",
   "pygments_lexer": "ipython3",
   "version": "3.11.4"
  }
 },
 "nbformat": 4,
 "nbformat_minor": 5
}
